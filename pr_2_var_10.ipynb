{
  "nbformat": 4,
  "nbformat_minor": 0,
  "metadata": {
    "colab": {
      "provenance": [],
      "authorship_tag": "ABX9TyOLplfvBS/0i1GaygjPqZFq",
      "include_colab_link": true
    },
    "kernelspec": {
      "name": "python3",
      "display_name": "Python 3"
    },
    "language_info": {
      "name": "python"
    }
  },
  "cells": [
    {
      "cell_type": "markdown",
      "metadata": {
        "id": "view-in-github",
        "colab_type": "text"
      },
      "source": [
        "<a href=\"https://colab.research.google.com/github/lmalyukova/Python/blob/master/pr_2_var_10.ipynb\" target=\"_parent\"><img src=\"https://colab.research.google.com/assets/colab-badge.svg\" alt=\"Open In Colab\"/></a>"
      ]
    },
    {
      "cell_type": "markdown",
      "source": [],
      "metadata": {
        "id": "Aw7ZwXykq-2y"
      }
    },
    {
      "cell_type": "code",
      "source": [
        "# Импортируем зависимости\n",
        "import numpy as np\n",
        "from matplotlib import pyplot as plt\n",
        "from tensorflow import keras\n",
        "from tensorflow.keras.datasets import mnist\n",
        "from tensorflow.keras.layers import Dense, Flatten\n",
        "\n",
        "# Подготавливаем данные для обучения\n",
        "(x_train, y_train), (x_test, y_test) = mnist.load_data()\n",
        "x_train = x_train / 255\n",
        "x_test = x_test / 255\n",
        "y_train_cat = keras.utils.to_categorical(y_train, 10)\n",
        "y_test_cat = keras.utils.to_categorical(y_test, 10)\n",
        "\n",
        "# Задаем модель НС\n",
        "model = keras.Sequential([\n",
        "    Flatten(input_shape=(28, 28, 1)),\n",
        "    Dense(46, activation='relu'),\n",
        "    Dense(10, activation='softmax')\n",
        "])\n",
        "\n",
        "model.compile(optimizer='adam',\n",
        "              loss='categorical_crossentropy',\n",
        "              metrics=['accuracy'])\n",
        "\n",
        "print(model.summary())\n",
        "\n",
        "# Производим обучение\n",
        "model.fit(x_train, y_train_cat, batch_size=16, epochs=10, validation_split=0.2)\n",
        "\n",
        "n = 5  # Выводим n(=5) первых неверно распознанных изображений из тестовой выборки\n",
        "wrong_predicts = 0\n",
        "for x0, y0 in zip(x_test, y_test_cat):\n",
        "    x = np.array([x0])\n",
        "    y = model.predict(x)\n",
        "    num_predicted = y.argmax()\n",
        "    num_true = y0.argmax()\n",
        "    if num_predicted != num_true:\n",
        "        wrong_predicts = wrong_predicts + 1\n",
        "        print(f\"Неверно распознанный образец #{wrong_predicts}, предсказано {num_predicted}, истинно - {num_true}\")\n",
        "        plt.imshow(x0)\n",
        "        plt.show()\n",
        "    if wrong_predicts >= n:\n",
        "        break\n",
        "\n",
        "print('************************************************')\n",
        "print('Метрики для тестовой выборки: ')\n",
        "model.evaluate(x_test, y_test_cat)\n",
        "\n",
        "# ************************************************\n",
        "# Метрики для тестовой выборки:\n",
        "# 313/313 [==============================] - 1s 1ms/step - loss: 0.1041 - accuracy: 0.9716\n",
        "#\n",
        "\n",
        "# В целом, данная модель НС показывает относительно неплохую точность на датасете mnist\n",
        "#\n",
        "# Модель демонстрирует ошибки в распознавании при достаточно нетривиальных формах изображения чисел,\n",
        "# некоторые неверно распознанные образцы затруднительно идентифицировать даже для человека.\n"
      ],
      "metadata": {
        "id": "6CesrRbosZG8"
      },
      "execution_count": null,
      "outputs": []
    }
  ]
}