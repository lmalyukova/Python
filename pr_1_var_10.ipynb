{
  "nbformat": 4,
  "nbformat_minor": 0,
  "metadata": {
    "colab": {
      "provenance": [],
      "authorship_tag": "ABX9TyMqX8NWihT1jQOa+b19hyhR",
      "include_colab_link": true
    },
    "kernelspec": {
      "name": "python3",
      "display_name": "Python 3"
    },
    "language_info": {
      "name": "python"
    }
  },
  "cells": [
    {
      "cell_type": "markdown",
      "metadata": {
        "id": "view-in-github",
        "colab_type": "text"
      },
      "source": [
        "<a href=\"https://colab.research.google.com/github/lmalyukova/Python/blob/master/pr_1_var_10.ipynb\" target=\"_parent\"><img src=\"https://colab.research.google.com/assets/colab-badge.svg\" alt=\"Open In Colab\"/></a>"
      ]
    },
    {
      "cell_type": "markdown",
      "source": [],
      "metadata": {
        "id": "Aw7ZwXykq-2y"
      }
    },
    {
      "cell_type": "code",
      "source": [
        "# Импортируем зависимости\n",
        "import numpy as np\n",
        "import tensorflow as tf\n",
        "from sklearn.metrics import mean_absolute_percentage_error as mape\n",
        "from tensorflow import keras\n",
        "\n",
        "\n",
        "# Функция генерации наборов входных и выходных данных в заданном диапазоне\n",
        "def generate(start, stop, step):\n",
        "    x_ = np.arange(start, stop, step)\n",
        "    data = np.asarray([[a0] for a0 in x_])\n",
        "    target = np.asarray([int(0.5 * a0) - 3 for a0 in x_])\n",
        "    return data, target\n",
        "\n",
        "\n",
        "# Генерируем тренировочные и тестовые наборы данных\n",
        "train_data, train_targets = generate(10, 10000, 1)\n",
        "test_data, test_targets = generate(10001, 20000, 4)\n",
        "\n",
        "# Описываем модель НС\n",
        "model = keras.Sequential([\n",
        "    keras.layers.Dense(40, activation=tf.nn.relu),\n",
        "    keras.layers.Dense(20, activation=tf.nn.relu),\n",
        "    keras.layers.Dense(10, activation=tf.nn.relu),\n",
        "    keras.layers.Dense(1)\n",
        "])\n",
        "\n",
        "# Создаем модель НС с использованием оптимизации по Adam и метрикой mape\n",
        "model.compile(optimizer='adam',\n",
        "              loss='mape',\n",
        "              metrics=['mape'])\n",
        "\n",
        "# Производим обучение НС\n",
        "model.fit(train_data, train_targets, epochs=50, batch_size=16)\n",
        "\n",
        "# Тестируем обученную НС\n",
        "_, test_mape = model.evaluate(test_data, test_targets)\n",
        "print('Test mean absolute percentage error:', test_mape)\n",
        "\n",
        "# Интерактивный режим: считываем из стандартного ввода число x, и предсказываем значение 0.5*x-3\n",
        "while True:\n",
        "    x = float(input(\"Enter x: \"))\n",
        "    val_pred = model.predict(np.array([[x]]))[0, 0]\n",
        "    val_true = 0.5 * x - 3\n",
        "    print(f\"Model prediction: 0.5*{x}-3={val_pred}; \"\n",
        "          f\"true value: {val_true}, \"\n",
        "          f\"mape: {mape([val_true], [val_pred])}\")\n"
      ],
      "metadata": {
        "id": "khtgYRjVq-Xz"
      },
      "execution_count": null,
      "outputs": []
    }
  ]
}